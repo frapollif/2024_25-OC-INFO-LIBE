{
 "cells": [
  {
   "cell_type": "code",
   "execution_count": 1,
   "metadata": {},
   "outputs": [],
   "source": [
    "import pickle as pkl\n",
    "from pathlib import Path\n",
    "\n",
    "data=Path('data')\n",
    "note=data/'note.pkl'"
   ]
  },
  {
   "cell_type": "markdown",
   "metadata": {},
   "source": []
  },
  {
   "cell_type": "code",
   "execution_count": 2,
   "metadata": {},
   "outputs": [],
   "source": [
    "class Materia:\n",
    "    def __init__(self, nome):\n",
    "        self.nome = nome\n",
    "        self.note_sem1 = []\n",
    "        self.note_sem2 = []\n",
    "\n",
    "    def __str__(self):\n",
    "        return f\"{self.nome}\"\n",
    "    \n",
    "   \n",
    "    def media_semestrale(self, semestre=1, arrotonda=True):\n",
    "        if semestre == 1:\n",
    "            \n",
    "            note=self.note_sem1\n",
    "        elif semestre == 2:\n",
    "            note=self.note_sem2\n",
    "        else:\n",
    "            return False\n",
    "        if note:\n",
    "            media=sum(note) / len(note)\n",
    "            if arrotonda:\n",
    "                return round(media, 2)\n",
    "            else:\n",
    "                return media   \n",
    "        else:\n",
    "            return False \n",
    "    "
   ]
  },
  {
   "cell_type": "code",
   "execution_count": 3,
   "metadata": {},
   "outputs": [],
   "source": [
    "mate= Materia('Matematica')\n",
    "mate.note_sem1 = [3.5, 5, 6]\n",
    "mate.note_sem2 = [4,4.5]\n",
    "ita=Materia('Italiano')\n",
    "ita.note_sem1 = [6, 4]\n",
    "ita.note_sem2 = [5, 6]\n",
    "\n",
    "mate.note_sem1\n",
    "\n",
    "materie = [mate, ita]"
   ]
  },
  {
   "cell_type": "code",
   "execution_count": 4,
   "metadata": {},
   "outputs": [],
   "source": [
    "with note.open('wb') as f:\n",
    "    pkl.dump(materie, f)"
   ]
  },
  {
   "cell_type": "code",
   "execution_count": 5,
   "metadata": {},
   "outputs": [
    {
     "name": "stdout",
     "output_type": "stream",
     "text": [
      "Matematica\n",
      "4.83\n",
      "4.833333333333333\n",
      "4.25\n",
      "4.25\n",
      "-----------\n",
      "Italiano\n",
      "5.0\n",
      "5.0\n",
      "5.5\n",
      "5.5\n",
      "-----------\n"
     ]
    }
   ],
   "source": [
    "with note.open('rb') as f:\n",
    "    data=pkl.load(f)\n",
    "    for materia in data:\n",
    "        print(materia.nome)\n",
    "        print(materia.media_semestrale(1))\n",
    "        print(materia.media_semestrale(1,arrotonda=False))\n",
    "        print(materia.media_semestrale(2))\n",
    "        print(materia.media_semestrale(2,arrotonda=False))\n",
    "        print(\"-----------\")\n",
    " \n"
   ]
  }
 ],
 "metadata": {
  "language_info": {
   "name": "python"
  }
 },
 "nbformat": 4,
 "nbformat_minor": 2
}
