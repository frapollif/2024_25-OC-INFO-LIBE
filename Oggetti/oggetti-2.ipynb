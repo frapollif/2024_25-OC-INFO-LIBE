{
 "cells": [
  {
   "cell_type": "code",
   "execution_count": 21,
   "metadata": {},
   "outputs": [],
   "source": [
    "import pickle as pkl\n",
    "from pathlib import Path\n",
    "\n",
    "data=Path('data')\n",
    "note=data/'note2.pkl'"
   ]
  },
  {
   "cell_type": "markdown",
   "metadata": {},
   "source": []
  },
  {
   "cell_type": "code",
   "execution_count": null,
   "metadata": {},
   "outputs": [],
   "source": [
    "class Verifica:\n",
    "\n",
    "    def __init__(self, materia, data, voto, semestre):\n",
    "        self.materia = materia\n",
    "        self.semestre = semestre\n",
    "        self.data = data\n",
    "        self.voto = voto\n",
    "\n",
    "    def __str__(self):\n",
    "        return f\"Verifica di {self.materia} il {self.data} nel semstre {self.semestre} con voto {self.voto}\"\n",
    "\n",
    "class Materia:\n",
    "    def __init__(self, nome, docente):\n",
    "        self.nome = nome\n",
    "        self.docente=docente\n",
    "        self.verifiche = []\n",
    "\n",
    "\n",
    "    def __str__(self):\n",
    "        return f\"Nome: {self.nome} , Docente: {self.docente}\"\n",
    "    \n",
    "    def aggiungi_verifica(self, data, voto, semestre):\n",
    "        verifica = Verifica(self.nome, data, voto, semestre)\n",
    "        self.verifiche.append(verifica)\n",
    "        return verifica\n",
    "    \n",
    "    def media_semestrale(self, semestre=1, arrotonda=True):\n",
    "        if semestre == 1:\n",
    "            verifiche = [verifica.voto for verifica in self.verifiche if verifica.semestre == 1]\n",
    "        elif semestre == 2:\n",
    "            verifiche = [verifica.voto for verifica in self.verifiche if verifica.semestre == 2]\n",
    "        else:\n",
    "            return False\n",
    "        if verifiche:\n",
    "            media = sum(verifiche) / len(verifiche)\n",
    "            if arrotonda:\n",
    "                return round(2*media, 0)/2\n",
    "            else:\n",
    "                return media\n",
    "        else:\n",
    "            return False\n",
    "        \n",
    "    def voti(self, semestre=1):\n",
    "        if semestre == 1:\n",
    "            return [verifica.voto for verifica in self.verifiche if verifica.semestre == 1]\n",
    "        elif semestre == 2:\n",
    "            return [verifica.voto for verifica in self.verifiche if verifica.semestre == 2]\n",
    "        else:\n",
    "            return False\n",
    "        \n",
    "    def df(self):\n",
    "        import pandas as pd\n",
    "        return pd.DataFrame({'Data': [verifica.data for verifica in self.verifiche],\n",
    "                             'Voto': [verifica.voto for verifica in self.verifiche],\n",
    "                             'Semestre': [verifica.semestre for verifica in self.verifiche]})\n",
    "   "
   ]
  },
  {
   "cell_type": "code",
   "execution_count": 26,
   "metadata": {},
   "outputs": [],
   "source": [
    "mate= Materia('Matematica', 'Rossi')\n",
    "\n",
    "mate.aggiungi_verifica(data='2020-01-01', voto=4, semestre=1)\n",
    "mate.aggiungi_verifica(data='2020-01-02', voto=4.3, semestre=1)\n",
    "mate.aggiungi_verifica(data='2020-01-03', voto=5, semestre=2)\n",
    "\n",
    "\n",
    "\n",
    "\n",
    "ita=Materia('Italiano', 'Bianchi')\n",
    "ita.aggiungi_verifica(data='2020-01-01', voto=6, semestre=1)\n",
    "ita.aggiungi_verifica(data='2020-01-02', voto=4, semestre=1)\n",
    "ita.aggiungi_verifica(data='2020-01-03', voto=5, semestre=2)\n",
    "\n",
    "materie = [mate, ita]"
   ]
  },
  {
   "cell_type": "code",
   "execution_count": 27,
   "metadata": {},
   "outputs": [],
   "source": [
    "with note.open('wb') as f:\n",
    "    pkl.dump(materie, f)"
   ]
  },
  {
   "cell_type": "code",
   "execution_count": 28,
   "metadata": {},
   "outputs": [
    {
     "name": "stdout",
     "output_type": "stream",
     "text": [
      "Matematica\n",
      "Rossi\n",
      "[4, 4.3]\n",
      "4.0\n",
      "4.15\n",
      "[5]\n",
      "5.0\n",
      "5.0\n",
      "-----------\n",
      "Italiano\n",
      "Bianchi\n",
      "[6, 4]\n",
      "5.0\n",
      "5.0\n",
      "[5]\n",
      "5.0\n",
      "5.0\n",
      "-----------\n"
     ]
    }
   ],
   "source": [
    "with note.open('rb') as f:\n",
    "    data=pkl.load(f)\n",
    "    for materia in data:\n",
    "        print(materia.nome)\n",
    "        print(materia.docente)\n",
    "        print(materia.voti(1))\n",
    "        print(materia.media_semestrale(1))\n",
    "        print(materia.media_semestrale(1,arrotonda=False))\n",
    "        print(materia.voti(2))\n",
    "        print(materia.media_semestrale(2))\n",
    "        print(materia.media_semestrale(2,arrotonda=False))\n",
    "        print(\"-----------\")\n",
    "        "
   ]
  },
  {
   "cell_type": "code",
   "execution_count": 31,
   "metadata": {},
   "outputs": [
    {
     "data": {
      "text/html": [
       "<div>\n",
       "<style scoped>\n",
       "    .dataframe tbody tr th:only-of-type {\n",
       "        vertical-align: middle;\n",
       "    }\n",
       "\n",
       "    .dataframe tbody tr th {\n",
       "        vertical-align: top;\n",
       "    }\n",
       "\n",
       "    .dataframe thead th {\n",
       "        text-align: right;\n",
       "    }\n",
       "</style>\n",
       "<table border=\"1\" class=\"dataframe\">\n",
       "  <thead>\n",
       "    <tr style=\"text-align: right;\">\n",
       "      <th></th>\n",
       "      <th></th>\n",
       "      <th>Data</th>\n",
       "      <th>Voto</th>\n",
       "      <th>Semestre</th>\n",
       "    </tr>\n",
       "  </thead>\n",
       "  <tbody>\n",
       "    <tr>\n",
       "      <th rowspan=\"3\" valign=\"top\">Matematica</th>\n",
       "      <th>0</th>\n",
       "      <td>2020-01-01</td>\n",
       "      <td>4.0</td>\n",
       "      <td>1</td>\n",
       "    </tr>\n",
       "    <tr>\n",
       "      <th>1</th>\n",
       "      <td>2020-01-02</td>\n",
       "      <td>4.3</td>\n",
       "      <td>1</td>\n",
       "    </tr>\n",
       "    <tr>\n",
       "      <th>2</th>\n",
       "      <td>2020-01-03</td>\n",
       "      <td>5.0</td>\n",
       "      <td>2</td>\n",
       "    </tr>\n",
       "    <tr>\n",
       "      <th rowspan=\"3\" valign=\"top\">Italiano</th>\n",
       "      <th>0</th>\n",
       "      <td>2020-01-01</td>\n",
       "      <td>6.0</td>\n",
       "      <td>1</td>\n",
       "    </tr>\n",
       "    <tr>\n",
       "      <th>1</th>\n",
       "      <td>2020-01-02</td>\n",
       "      <td>4.0</td>\n",
       "      <td>1</td>\n",
       "    </tr>\n",
       "    <tr>\n",
       "      <th>2</th>\n",
       "      <td>2020-01-03</td>\n",
       "      <td>5.0</td>\n",
       "      <td>2</td>\n",
       "    </tr>\n",
       "  </tbody>\n",
       "</table>\n",
       "</div>"
      ],
      "text/plain": [
       "                    Data  Voto  Semestre\n",
       "Matematica 0  2020-01-01   4.0         1\n",
       "           1  2020-01-02   4.3         1\n",
       "           2  2020-01-03   5.0         2\n",
       "Italiano   0  2020-01-01   6.0         1\n",
       "           1  2020-01-02   4.0         1\n",
       "           2  2020-01-03   5.0         2"
      ]
     },
     "execution_count": 31,
     "metadata": {},
     "output_type": "execute_result"
    }
   ],
   "source": [
    "import pandas as pd\n",
    "\n",
    "df_all = pd.concat([materia.df() for materia in data], keys=[materia.nome for materia in data])\n",
    "df_all\n"
   ]
  },
  {
   "cell_type": "code",
   "execution_count": 48,
   "metadata": {},
   "outputs": [
    {
     "data": {
      "text/html": [
       "<div>\n",
       "<style scoped>\n",
       "    .dataframe tbody tr th:only-of-type {\n",
       "        vertical-align: middle;\n",
       "    }\n",
       "\n",
       "    .dataframe tbody tr th {\n",
       "        vertical-align: top;\n",
       "    }\n",
       "\n",
       "    .dataframe thead th {\n",
       "        text-align: right;\n",
       "    }\n",
       "</style>\n",
       "<table border=\"1\" class=\"dataframe\">\n",
       "  <thead>\n",
       "    <tr style=\"text-align: right;\">\n",
       "      <th></th>\n",
       "      <th>Materia</th>\n",
       "      <th>Media Semestre 1</th>\n",
       "      <th>Media Semestre 2</th>\n",
       "    </tr>\n",
       "  </thead>\n",
       "  <tbody>\n",
       "    <tr>\n",
       "      <th>0</th>\n",
       "      <td>Matematica</td>\n",
       "      <td>4.150</td>\n",
       "      <td>5.0</td>\n",
       "    </tr>\n",
       "    <tr>\n",
       "      <th>1</th>\n",
       "      <td>Italiano</td>\n",
       "      <td>5.000</td>\n",
       "      <td>5.0</td>\n",
       "    </tr>\n",
       "    <tr>\n",
       "      <th>2</th>\n",
       "      <td>Media generale</td>\n",
       "      <td>4.575</td>\n",
       "      <td>5.0</td>\n",
       "    </tr>\n",
       "  </tbody>\n",
       "</table>\n",
       "</div>"
      ],
      "text/plain": [
       "          Materia  Media Semestre 1  Media Semestre 2\n",
       "0      Matematica             4.150               5.0\n",
       "1        Italiano             5.000               5.0\n",
       "2  Media generale             4.575               5.0"
      ]
     },
     "execution_count": 48,
     "metadata": {},
     "output_type": "execute_result"
    }
   ],
   "source": [
    "df_medie = pd.DataFrame({\n",
    "    'Materia': [materia.nome for materia in data],\n",
    "    'Media Semestre 1': [materia.media_semestrale(1, arrotonda=False) for materia in data],\n",
    "    'Media Semestre 2': [materia.media_semestrale(2, arrotonda=False) for materia in data]})\n",
    "df_medie.loc[len(df_medie)] = ['Media generale', df_medie['Media Semestre 1'].mean(), df_medie['Media Semestre 2'].mean()]\n",
    "df_medie"
   ]
  },
  {
   "cell_type": "code",
   "execution_count": 49,
   "metadata": {},
   "outputs": [
    {
     "name": "stdout",
     "output_type": "stream",
     "text": [
      "Media del primo semestre: 4.5\n"
     ]
    }
   ],
   "source": [
    "sem1=round(2*df_medie['Media Semestre 1'].mean(),0)/2\n",
    "print(f\"Media del primo semestre: {sem1}\")"
   ]
  },
  {
   "cell_type": "code",
   "execution_count": 57,
   "metadata": {},
   "outputs": [
    {
     "data": {
      "image/png": "[encoded data removed]",
      "text/plain": [
       "<Figure size 640x480 with 1 Axes>"
      ]
     },
     "metadata": {},
     "output_type": "display_data"
    },
    {
     "data": {
      "image/png": "[encoded data removed]",
      "text/plain": [
       "<Figure size 640x480 with 1 Axes>"
      ]
     },
     "metadata": {},
     "output_type": "display_data"
    }
   ],
   "source": [
    "\n",
    "for materia in data:\n",
    "    materia.df().plot(x='Data', y='Voto', kind='line', title=materia.nome)"
   ]
  },
  {
   "cell_type": "code",
   "execution_count": null,
   "metadata": {},
   "outputs": [],
   "source": []
  }
 ],
 "metadata": {
  "language_info": {
   "name": "python"
  }
 },
 "nbformat": 4,
 "nbformat_minor": 2
}
